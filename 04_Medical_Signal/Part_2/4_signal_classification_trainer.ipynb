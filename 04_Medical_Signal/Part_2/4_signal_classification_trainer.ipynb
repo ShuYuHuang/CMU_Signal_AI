{
 "cells": [
  {
   "cell_type": "code",
   "execution_count": 4,
   "metadata": {},
   "outputs": [],
   "source": [
    "from transformers import TrainingArguments, Trainer\n",
    "from torch import nn\n",
    "\n",
    "training_args = TrainingArguments(\n",
    "    output_dir=\"outout\",\n",
    "    per_device_train_batch_size=8,\n",
    "    num_train_epochs=1, #Epoch數設定\n",
    "    fp16=True,\n",
    "    save_steps=200,\n",
    "    logging_steps=50,\n",
    "    learning_rate=1e-5,\n",
    "    weight_decay=1e-4,\n",
    "    save_total_limit=2,\n",
    "    remove_unused_columns=False, #(重要)需設為False\n",
    ")\n",
    "\n",
    "\n",
    "class CNN(nn.Module):\n",
    "    def __init__(self, in_channels, num_labels=1000):\n",
    "        super(CNN, self).__init__()\n",
    "        self.num_labels = num_labels\n",
    "        self.conv1 = nn.Sequential(\n",
    "            nn.Conv2d(in_channels = in_channels, out_channels = 32,\n",
    "                      kernel_size = 3, stride = 1, padding = 1), # stride = 1, padding = (kernel_size-1)/2 = (3-1)/2\n",
    "            nn.ReLU(),\n",
    "            nn.MaxPool2d(kernel_size = 2),\n",
    "        )\n",
    "        self.conv2 = nn.Sequential(\n",
    "            nn.Conv2d(in_channels = 32, out_channels = 16,\n",
    "                      kernel_size = 3, stride = 1, padding = 1),\n",
    "            nn.ReLU(),\n",
    "            nn.MaxPool2d(2)\n",
    "        )\n",
    "        self.flatten = nn.Flatten()\n",
    "        self.relu = nn.ReLU()\n",
    "        \n",
    "        # Define fully-connected layers\n",
    "        self.fc_1 = nn.Linear(16*56*56, 2048)\n",
    "        self.fc_2 = nn.Linear(2048, num_labels)\n",
    "\n",
    "    def forward(self, inputs, labels=None):\n",
    "        x = self.conv1(inputs)\n",
    "        x = self.conv2(x)\n",
    "        x = self.flatten(x)\n",
    "        x = self.fc_1(x)\n",
    "        x = self.relu(x)\n",
    "        logits = self.fc_2(x)\n",
    "        \n",
    "        if labels is not None: #BertForSequenceClassification\n",
    "            if self.num_labels == 1:\n",
    "                #  Regression\n",
    "                loss_fct = nn.MSELoss()\n",
    "                loss = loss_fct(logits.view(-1), labels.view(-1))\n",
    "            else:\n",
    "                #  Classification\n",
    "                loss_fct = nn.CrossEntropyLoss()\n",
    "                loss = loss_fct(logits.view(-1, self.num_labels), labels.view(-1))\n",
    "        else:\n",
    "            loss = None\n",
    "\n",
    "        return {'loss':loss, 'logits':logits, 'hidden_states':None}"
   ]
  },
  {
   "cell_type": "code",
   "execution_count": 10,
   "metadata": {},
   "outputs": [],
   "source": [
    "import numpy as np\n",
    "data = [\n",
    "    {\n",
    "        'inputs': np.random.randn(3,224,224).astype(\"float32\"),\n",
    "        'labels': np.random.randint(0, 5, size=1)\n",
    "    }\n",
    "]*60"
   ]
  },
  {
   "cell_type": "code",
   "execution_count": 11,
   "metadata": {},
   "outputs": [
    {
     "name": "stderr",
     "output_type": "stream",
     "text": [
      "Using cuda_amp half precision backend\n"
     ]
    }
   ],
   "source": [
    "model = CNN(3, num_labels=6)\n",
    "trainer = Trainer(\n",
    "    model=model,\n",
    "    args=training_args,\n",
    "    train_dataset=data,\n",
    "    eval_dataset=data,\n",
    ")\n",
    "trainer.train()"
   ]
  },
  {
   "cell_type": "code",
   "execution_count": null,
   "metadata": {},
   "outputs": [],
   "source": []
  }
 ],
 "metadata": {
  "kernelspec": {
   "display_name": "Python 3 (ipykernel)",
   "language": "python",
   "name": "python3"
  },
  "language_info": {
   "codemirror_mode": {
    "name": "ipython",
    "version": 3
   },
   "file_extension": ".py",
   "mimetype": "text/x-python",
   "name": "python",
   "nbconvert_exporter": "python",
   "pygments_lexer": "ipython3",
   "version": "3.7.12"
  }
 },
 "nbformat": 4,
 "nbformat_minor": 4
}
