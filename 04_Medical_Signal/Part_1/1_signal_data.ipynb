{
 "cells": [
  {
   "cell_type": "code",
   "execution_count": 3,
   "metadata": {},
   "outputs": [],
   "source": [
    "from glob import glob\n",
    "import os\n",
    "import numpy as np  # 用於數值計算和科學計算\n",
    "import pandas as pd  # 用於表格型資料的操作\n",
    "import json  # 用於處理JSON格式的資料\n",
    "import matplotlib.pyplot as plt  # 用於繪製圖表\n",
    "\n",
    "import torch\n",
    "from torch import nn\n",
    "from torchvision import transforms\n",
    "from torch.utils.data import Dataset, DataLoader"
   ]
  },
  {
   "cell_type": "markdown",
   "metadata": {},
   "source": [
    "# Signal labeling"
   ]
  },
  {
   "cell_type": "markdown",
   "metadata": {},
   "source": [
    "## 🏷️資料標註"
   ]
  },
  {
   "cell_type": "markdown",
   "metadata": {},
   "source": [
    "我們會使用Label Studio作為資料標註的方式，詳細操作見講義。"
   ]
  },
  {
   "cell_type": "markdown",
   "metadata": {},
   "source": [
    "############################################################################################\n",
    "\n",
    "此處待討論是否要先轉csv\n",
    "\n",
    "############################################################################################"
   ]
  },
  {
   "cell_type": "markdown",
   "metadata": {},
   "source": [
    "其中有些格式限制，我們的data需轉換為.csv檔並且遵循以下格式:\n",
    "``` .csv\n",
    "times, {channel name 1}, {channel name 2}, {channel name 3}\n",
    "{timepoint1}, {ch1 value0}, {ch2 value0}, {ch3 value0}\n",
    "{timepoint2}, {ch1 value1}, {ch2 value1}, {ch3 value1}\n",
    "\n",
    "```\n",
    "在excel或者Pandas上看就是有time的column以及各個channel的column\n",
    "- time - 時間點，data type需要是數字，不限浮點數、單位\n",
    "- channel x - 某個channel的數值, 為浮點數，不限單位\n",
    "\n",
    "e.g. \n",
    "| times | I     | II    | ... |\n",
    "| ----- | ----- | ----- | --- |\n",
    "| 0.01  | 0.321 | 0.125 | ... |\n",
    "| 0.02  | 0.124 | -0.02 | ... |\n",
    "| 0.03  | 0.124 | -0.21 | ... |\n",
    "| ...   | ...   | ...   | ... |"
   ]
  },
  {
   "cell_type": "code",
   "execution_count": 4,
   "metadata": {},
   "outputs": [],
   "source": [
    "data_root = '/home/jovyan/ta-hsi-datacenter3/Medical/CMU_Course_sy/dataset/ECG_segmentation_1DUnet/segments'\n",
    "datafile = os.path.join(data_root,'2_0.npy')\n",
    "data = np.load(datafile)\n",
    "files = glob(data_root+'/*.npy')"
   ]
  },
  {
   "cell_type": "code",
   "execution_count": 5,
   "metadata": {},
   "outputs": [],
   "source": [
    "df = pd.DataFrame()\n",
    "df['id'] = list(range(len(files)))\n",
    "df['filename'] = list(map(lambda x: x.split('/')[-1],files))\n",
    "df = df.sample(len(df))\n",
    "L  = int(len(df)*0.8)\n",
    "df_train = df.iloc[:L]\n",
    "df_test = df.iloc[L:]"
   ]
  },
  {
   "cell_type": "code",
   "execution_count": 6,
   "metadata": {},
   "outputs": [],
   "source": [
    "df_train.to_csv(data_root+'/../train_filelist.csv', index=False)\n",
    "df_test.to_csv(data_root+'/../test_filelist.csv', index=False)"
   ]
  },
  {
   "cell_type": "code",
   "execution_count": 7,
   "metadata": {},
   "outputs": [
    {
     "data": {
      "text/html": [
       "<div>\n",
       "<style scoped>\n",
       "    .dataframe tbody tr th:only-of-type {\n",
       "        vertical-align: middle;\n",
       "    }\n",
       "\n",
       "    .dataframe tbody tr th {\n",
       "        vertical-align: top;\n",
       "    }\n",
       "\n",
       "    .dataframe thead th {\n",
       "        text-align: right;\n",
       "    }\n",
       "</style>\n",
       "<table border=\"1\" class=\"dataframe\">\n",
       "  <thead>\n",
       "    <tr style=\"text-align: right;\">\n",
       "      <th></th>\n",
       "      <th>id</th>\n",
       "      <th>filename</th>\n",
       "    </tr>\n",
       "  </thead>\n",
       "  <tbody>\n",
       "    <tr>\n",
       "      <th>379</th>\n",
       "      <td>379</td>\n",
       "      <td>7_3.npy</td>\n",
       "    </tr>\n",
       "    <tr>\n",
       "      <th>167</th>\n",
       "      <td>167</td>\n",
       "      <td>156_2.npy</td>\n",
       "    </tr>\n",
       "    <tr>\n",
       "      <th>714</th>\n",
       "      <td>714</td>\n",
       "      <td>164_4.npy</td>\n",
       "    </tr>\n",
       "    <tr>\n",
       "      <th>729</th>\n",
       "      <td>729</td>\n",
       "      <td>50_0.npy</td>\n",
       "    </tr>\n",
       "    <tr>\n",
       "      <th>1176</th>\n",
       "      <td>1176</td>\n",
       "      <td>99_7.npy</td>\n",
       "    </tr>\n",
       "  </tbody>\n",
       "</table>\n",
       "</div>"
      ],
      "text/plain": [
       "        id   filename\n",
       "379    379    7_3.npy\n",
       "167    167  156_2.npy\n",
       "714    714  164_4.npy\n",
       "729    729   50_0.npy\n",
       "1176  1176   99_7.npy"
      ]
     },
     "execution_count": 7,
     "metadata": {},
     "output_type": "execute_result"
    }
   ],
   "source": [
    "df_train.head()"
   ]
  },
  {
   "cell_type": "code",
   "execution_count": 8,
   "metadata": {},
   "outputs": [
    {
     "data": {
      "text/plain": [
       "numpy.ndarray"
      ]
     },
     "execution_count": 8,
     "metadata": {},
     "output_type": "execute_result"
    }
   ],
   "source": [
    "type(data)"
   ]
  },
  {
   "cell_type": "code",
   "execution_count": 9,
   "metadata": {},
   "outputs": [
    {
     "data": {
      "text/plain": [
       "(5, 600)"
      ]
     },
     "execution_count": 9,
     "metadata": {},
     "output_type": "execute_result"
    }
   ],
   "source": [
    "data.shape"
   ]
  },
  {
   "cell_type": "code",
   "execution_count": 10,
   "metadata": {},
   "outputs": [
    {
     "data": {
      "text/plain": [
       "[<matplotlib.lines.Line2D at 0x7f5ce7bfdcd0>,\n",
       " <matplotlib.lines.Line2D at 0x7f5ce3193bd0>,\n",
       " <matplotlib.lines.Line2D at 0x7f5ce3193d90>,\n",
       " <matplotlib.lines.Line2D at 0x7f5ce3193f50>,\n",
       " <matplotlib.lines.Line2D at 0x7f5ce319e150>]"
      ]
     },
     "execution_count": 10,
     "metadata": {},
     "output_type": "execute_result"
    },
    {
     "data": {
      "image/png": "[encoded data removed]",
      "text/plain": [
       "<Figure size 432x288 with 1 Axes>"
      ]
     },
     "metadata": {
      "needs_background": "light"
     },
     "output_type": "display_data"
    }
   ],
   "source": [
    "plt.plot(data.T)"
   ]
  },
  {
   "cell_type": "markdown",
   "metadata": {},
   "source": [
    "# DataLoader"
   ]
  },
  {
   "cell_type": "code",
   "execution_count": 11,
   "metadata": {},
   "outputs": [],
   "source": [
    "data_root = '/home/jovyan/ta-hsi-datacenter3/Medical/CMU_Course_sy/dataset/ECG_segmentation_1DUnet/segments'\n",
    "train_file_list = os.path.join(data_root,'..','train_filelist.csv')\n",
    "test_file_list = os.path.join(data_root,'..','test_filelist.csv')\n",
    "datafile = os.path.join(data_root,'2_0.npy')\n",
    "data = np.load(datafile)"
   ]
  },
  {
   "cell_type": "code",
   "execution_count": 13,
   "metadata": {},
   "outputs": [],
   "source": [
    "class ECGSegmentationDataset(Dataset):\n",
    "    def __init__(self,\n",
    "                annotation_file,  # 標註檔案路徑\n",
    "                data_dir,  # ECG資料路徑\n",
    "                transform=None,\n",
    "                channels=None,\n",
    "                class_names=None, # 資料轉換函式\n",
    "                dict_format=False):  \n",
    "        self.signal_paths = data_dir\n",
    "        self.ecg_signals = pd.read_csv(annotation_file)  # 讀取標註檔案\n",
    "        self.transform = transform\n",
    "        self.channels = channels\n",
    "        self.dict_format = dict_format\n",
    "        if class_names is not None:\n",
    "            self.class_map = {n: i for i, n in enumerate(class_names)}\n",
    "    def __len__(self):\n",
    "        return len(self.ecg_signals)  # 回傳資料筆數\n",
    "    def __getitem__(self, idx):\n",
    "        entry = self.ecg_signals.iloc[idx]  # 取得指定索引的資料\n",
    "        data = np.load(os.path.join(self.signal_paths, entry['filename']))  # self.signal_paths+entry['filename'])  # 讀取ECG資料\n",
    "        label = data[1:].argmax(axis=0)  # 取得標籤\n",
    "        data = data[None,0].astype('float32')\n",
    "        if self.transform:\n",
    "            data = self.transform(data)[0]  # 資料轉換\n",
    "        if self.dict_format:\n",
    "            return {'x':data, 'labels':label}  # 回傳資料和標籤\n",
    "        return data, label  # 回傳資料和標籤"
   ]
  },
  {
   "cell_type": "code",
   "execution_count": 14,
   "metadata": {},
   "outputs": [],
   "source": [
    "transform = transforms.Compose([\n",
    "    transforms.ToTensor(),\n",
    "    transforms.Normalize((0.5), (0.5))\n",
    "])"
   ]
  },
  {
   "cell_type": "code",
   "execution_count": 15,
   "metadata": {},
   "outputs": [],
   "source": [
    "train_ds = ECGSegmentationDataset(train_file_list, data_root,transform=transform, channels=1)\n",
    "train_dl = DataLoader(train_ds, batch_size=32, shuffle=True, num_workers=4)\n",
    "val_ds = ECGSegmentationDataset(test_file_list, data_root,transform=transform, channels=1)\n",
    "val_dl = DataLoader(val_ds, batch_size=64, shuffle=False, num_workers=4)"
   ]
  },
  {
   "cell_type": "code",
   "execution_count": 16,
   "metadata": {},
   "outputs": [
    {
     "name": "stdout",
     "output_type": "stream",
     "text": [
      "data shape: torch.Size([32, 1, 600])  dtype: torch.float32\n",
      "label shape: torch.Size([32, 600])  dtype: torch.int64\n"
     ]
    }
   ],
   "source": [
    "x, label = next(iter(train_dl))\n",
    "print('data shape:',x.shape,' dtype:',x.dtype)\n",
    "print('label shape:',label.shape,' dtype:',label.dtype)"
   ]
  },
  {
   "cell_type": "markdown",
   "metadata": {},
   "source": [
    "# Plot DataLoader iter Data"
   ]
  },
  {
   "cell_type": "code",
   "execution_count": 17,
   "metadata": {},
   "outputs": [
    {
     "name": "stderr",
     "output_type": "stream",
     "text": [
      "/opt/conda/lib/python3.7/site-packages/ipykernel_launcher.py:1: UserWarning: The use of `x.T` on tensors of dimension other than 2 to reverse their shape is deprecated and it will throw an error in a future release. Consider `x.mT` to transpose batches of matrices or `x.permute(*torch.arange(x.ndim - 1, -1, -1))` to reverse the dimensions of a tensor. (Triggered internally at ../aten/src/ATen/native/TensorShape.cpp:3538.)\n",
      "  \"\"\"Entry point for launching an IPython kernel.\n"
     ]
    },
    {
     "data": {
      "image/png": "[encoded data removed]",
      "text/plain": [
       "<Figure size 432x288 with 1 Axes>"
      ]
     },
     "metadata": {
      "needs_background": "light"
     },
     "output_type": "display_data"
    }
   ],
   "source": [
    "plt.plot(label[0].T)\n",
    "plt.show()"
   ]
  },
  {
   "cell_type": "code",
   "execution_count": 18,
   "metadata": {},
   "outputs": [
    {
     "data": {
      "image/png": "[encoded data removed]",
      "text/plain": [
       "<Figure size 432x288 with 4 Axes>"
      ]
     },
     "metadata": {
      "needs_background": "light"
     },
     "output_type": "display_data"
    }
   ],
   "source": [
    "# Get the number of channels and times\n",
    "num_channels = 4\n",
    "num_times = x.shape[2]\n",
    "num_classes = 4\n",
    "\n",
    "# Create a figure and axes\n",
    "fig, axes = plt.subplots(nrows=num_channels, ncols=1, sharex=True)\n",
    "# Set the title\n",
    "plt.title(\"Signal Segmentation Data\")\n",
    "\n",
    "dmax = x[:num_channels, 0, :].max()\n",
    "dmin = x[:num_channels, 0, :].min()\n",
    "# Plot the data and labels\n",
    "for i in range(num_channels):\n",
    "    sig = (x[i, 0, :] - dmin)/dmax - 0.5\n",
    "    axes[i].plot(np.arange(num_times), sig)\n",
    "    for j in range(num_classes):\n",
    "        axes[i].fill_between(np.arange(num_times), (label[i, :] == j) * -0.5, (label[i, :] == j) * 0.5, alpha=0.3)\n",
    "\n",
    "    # Add horizontal line at y=0\n",
    "    axes[i].axhline(y=0, color='gray', linestyle='-')\n",
    "\n",
    "    # Set the x-axis and y-axis labels\n",
    "\n",
    "    axes[i].set_ylabel(\"x\")\n",
    "    \n",
    "    # Remove the frame of each plot\n",
    "    axes[i].spines['top'].set_visible(False)\n",
    "    axes[i].spines['right'].set_visible(False)\n",
    "    axes[i].spines['bottom'].set_visible(False)\n",
    "    axes[i].spines['left'].set_visible(False)\n",
    "axes[i].set_xlabel(\"Time\")\n",
    "\n",
    "\n",
    "# Show the plot\n",
    "plt.show()"
   ]
  },
  {
   "cell_type": "markdown",
   "metadata": {},
   "source": [
    "# Inspection and plot"
   ]
  },
  {
   "cell_type": "code",
   "execution_count": 19,
   "metadata": {},
   "outputs": [],
   "source": [
    "train_ds = ECGSegmentationDataset(train_file_list, data_root,transform=transform, channels=1, dict_format=True)\n",
    "val_ds = ECGSegmentationDataset(test_file_list, data_root,transform=transform, channels=1, dict_format=True)"
   ]
  },
  {
   "cell_type": "code",
   "execution_count": 20,
   "metadata": {},
   "outputs": [
    {
     "name": "stdout",
     "output_type": "stream",
     "text": [
      "image shape: torch.Size([1, 600])  dtype: torch.float32\n",
      "label shape: (600,)  dtype: int64\n"
     ]
    }
   ],
   "source": [
    "data = next(iter(val_ds))\n",
    "print('image shape:',data['x'].shape,' dtype:',data['x'].dtype)\n",
    "print('label shape:',data['labels'].shape,' dtype:',data['labels'].dtype)"
   ]
  },
  {
   "cell_type": "code",
   "execution_count": 21,
   "metadata": {},
   "outputs": [
    {
     "data": {
      "image/png": "[encoded data removed]",
      "text/plain": [
       "<Figure size 432x288 with 1 Axes>"
      ]
     },
     "metadata": {
      "needs_background": "light"
     },
     "output_type": "display_data"
    }
   ],
   "source": [
    "# Get the number of channels and times\n",
    "num_channels = 1\n",
    "num_times = data['x'].shape[1]\n",
    "num_classes = 4\n",
    "\n",
    "# Create a figure and axes\n",
    "fig, axes = plt.subplots(nrows=num_channels, ncols=1, sharex=True)\n",
    "# Set the title\n",
    "plt.title(\"Signal Segmentation Data\")\n",
    "\n",
    "dmax = data['x'][:num_channels, :].max()\n",
    "dmin = data['x'][:num_channels, :].min()\n",
    "# Plot the data and labels\n",
    "sig = (data['x'][0, :] - dmin)/dmax - 0.5\n",
    "axes.plot(np.arange(num_times), sig)\n",
    "for j in range(num_classes):\n",
    "    axes.fill_between(np.arange(num_times), (data['labels'] == j) * -0.5, (data['labels'] == j) * 0.5, alpha=0.3)\n",
    "\n",
    "# Add horizontal line at y=0\n",
    "axes.axhline(y=0, color='gray', linestyle='-')\n",
    "\n",
    "# Set the x-axis and y-axis labels\n",
    "\n",
    "axes.set_ylabel(\"Data\")\n",
    "\n",
    "# Remove the frame of each plot\n",
    "axes.spines['top'].set_visible(False)\n",
    "axes.spines['right'].set_visible(False)\n",
    "axes.spines['bottom'].set_visible(False)\n",
    "axes.spines['left'].set_visible(False)\n",
    "axes.set_xlabel(\"Time\")\n",
    "\n",
    "\n",
    "# Show the plot\n",
    "plt.show()"
   ]
  }
 ],
 "metadata": {
  "kernelspec": {
   "display_name": "Python 3 (ipykernel)",
   "language": "python",
   "name": "python3"
  },
  "language_info": {
   "codemirror_mode": {
    "name": "ipython",
    "version": 3
   },
   "file_extension": ".py",
   "mimetype": "text/x-python",
   "name": "python",
   "nbconvert_exporter": "python",
   "pygments_lexer": "ipython3",
   "version": "3.8.5"
  }
 },
 "nbformat": 4,
 "nbformat_minor": 4
}
