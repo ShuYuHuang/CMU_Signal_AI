{
 "cells": [
  {
   "cell_type": "code",
   "execution_count": null,
   "id": "d59796a3",
   "metadata": {},
   "outputs": [],
   "source": [
    "# !pip install pandas==1.1.5\n",
    "# !pip install xmltodict\n",
    "# !pip intall xlwt\n",
    "# !pip install wfdb\n",
    "# !pip install einops"
   ]
  },
  {
   "cell_type": "code",
   "execution_count": 1,
   "id": "0df5b252",
   "metadata": {},
   "outputs": [],
   "source": [
    "from typing import *  # Importing all types from typing module\n",
    "import os  # Importing os module\n",
    "from glob import glob  # Importing glob function from glob module\n",
    "from tqdm.auto import tqdm\n",
    "from fusionlab.datasets.utils import download_file  # Importing tqdm function from tqdm.auto module\n",
    "\n",
    "from scipy import io  # Importing scipy module\n",
    "import pandas as pd  # Importing pandas module and aliasing it as pd\n",
    "\n",
    "import torch  # Importing torch module\n",
    "from torch.utils.data import Dataset  # Importing Dataset class from torch.utils.data module"
   ]
  },
  {
   "attachments": {},
   "cell_type": "markdown",
   "id": "0c26020e",
   "metadata": {},
   "source": [
    "# Download Dataset (cinc)"
   ]
  },
  {
   "cell_type": "code",
   "execution_count": 2,
   "id": "77223b05",
   "metadata": {},
   "outputs": [],
   "source": [
    "URL_ECG = \"https://physionet.org/files/challenge-2017/1.0.0/training2017.zip\"\n",
    "# URL_LABEL = \"https://physionet.org/content/challenge-2017/1.0.0/REFERENCE-v3.csv\"\n",
    "URL_LABEL = \"https://physionet.org/files/challenge-2017/1.0.0/REFERENCE-v3.csv\""
   ]
  },
  {
   "cell_type": "code",
   "execution_count": 4,
   "id": "bfb46a89",
   "metadata": {},
   "outputs": [],
   "source": [
    "def convert_mat_to_csv(root, target_dir=\"csv\"):\n",
    "    paths = glob(os.path.join(root, \"training2017\",\n",
    "                              \"*.mat\"))  # get all paths of .mat files in the training2017 folder\n",
    "    os.makedirs(os.path.join(root, target_dir),\n",
    "                exist_ok=True)  # create a new directory named target_dir in the root directory\n",
    "    print(\"mat files: \", len(paths))  # print the number of .mat files found\n",
    "    print(\"start to convert mat files to csv files\"\n",
    "          )  # print a message indicating the start of the conversion process\n",
    "    for path in tqdm(paths):  # iterate through each path in paths\n",
    "        filename = os.path.basename(path)  # get the filename from the path\n",
    "        file_id = filename.split(\".\")[\n",
    "            0]  # get the file ID by splitting the filename at the \".\" and taking the first part\n",
    "        target_filename = file_id + \".csv\"  # create the target filename by appending \".csv\" to the file ID\n",
    "        signal = io.loadmat(path)[\"val\"][0]  # load the .mat file and extract the \"val\" array\n",
    "        df = pd.DataFrame(columns=[\"lead\"\n",
    "                                   ])  # create a new DataFrame with a single column named \"lead\"\n",
    "        df[\"lead\"] = signal  # set the \"lead\" column to the \"val\" array\n",
    "        df.to_csv(\n",
    "            os.path.join(root, target_dir, target_filename)\n",
    "        )  # save the DataFrame as a CSV file in the target directory with the target filename\n",
    "\n",
    "\n",
    "    \n",
    "\n",
    "def validate_data(csv_dir, label_path):\n",
    "    \"\"\"\n",
    "    check if the number of csv files and label files are matched\n",
    "    \"\"\"\n",
    "    csv_paths = glob(os.path.join(csv_dir, \"*.csv\"))  # get all csv files in the directory\n",
    "    df_label = pd.read_csv(label_path, header=None,\n",
    "                           names=[\"pat\", \"label\"])  # read the label file as a dataframe\n",
    "    print(\"csv files: \", len(csv_paths))  # print the number of csv files\n",
    "    print(\"label files: \", len(df_label))  # print the number of label files\n",
    "    assert len(csv_paths) == len(\n",
    "        df_label\n",
    "    ), \"csv files and label files are not matched\"  # check if the number of csv files and label files are equal\n",
    "    return  # return nothing\n"
   ]
  },
  {
   "cell_type": "code",
   "execution_count": 6,
   "id": "16bdadfa",
   "metadata": {},
   "outputs": [
    {
     "name": "stdout",
     "output_type": "stream",
     "text": [
      "csv files:  8528\n",
      "label files:  8528\n"
     ]
    }
   ],
   "source": [
    "root = \"datas/cinc2017\"\n",
    "try:\n",
    "    validate_data(root + \"/csv\", root + \"/REFERENCE-v3.csv\")\n",
    "except:\n",
    "    print(\"validation failed, start to donwload and convert data\")\n",
    "    download_file(URL_ECG, root, extract=True)\n",
    "    download_file(URL_LABEL, root, extract=False)\n",
    "    convert_mat_to_csv(root)\n"
   ]
  },
  {
   "cell_type": "code",
   "execution_count": null,
   "id": "14b6f706",
   "metadata": {},
   "outputs": [],
   "source": []
  }
 ],
 "metadata": {
  "kernelspec": {
   "display_name": "Python 3 (ipykernel)",
   "language": "python",
   "name": "python3"
  },
  "language_info": {
   "codemirror_mode": {
    "name": "ipython",
    "version": 3
   },
   "file_extension": ".py",
   "mimetype": "text/x-python",
   "name": "python",
   "nbconvert_exporter": "python",
   "pygments_lexer": "ipython3",
   "version": "3.8.5"
  }
 },
 "nbformat": 4,
 "nbformat_minor": 5
}
