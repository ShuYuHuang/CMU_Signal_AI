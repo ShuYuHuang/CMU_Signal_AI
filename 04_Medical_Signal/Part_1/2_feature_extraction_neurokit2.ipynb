{
 "cells": [
  {
   "cell_type": "code",
   "execution_count": null,
   "metadata": {},
   "outputs": [],
   "source": [
    "%pip install neurokit2"
   ]
  },
  {
   "cell_type": "code",
   "execution_count": 1,
   "metadata": {},
   "outputs": [],
   "source": [
    "import neurokit2 as nk\n",
    "import pandas as pd\n",
    "import matplotlib.pyplot as plt"
   ]
  },
  {
   "cell_type": "markdown",
   "metadata": {},
   "source": [
    "# ecg process"
   ]
  },
  {
   "cell_type": "code",
   "execution_count": null,
   "metadata": {},
   "outputs": [],
   "source": [
    "signals, info = nk.ecg_process(ecg, sampling_rate=250)"
   ]
  },
  {
   "cell_type": "code",
   "execution_count": null,
   "metadata": {},
   "outputs": [],
   "source": [
    "signals"
   ]
  },
  {
   "cell_type": "code",
   "execution_count": null,
   "metadata": {},
   "outputs": [],
   "source": [
    "info"
   ]
  },
  {
   "cell_type": "code",
   "execution_count": null,
   "metadata": {},
   "outputs": [],
   "source": [
    "nk.ecg_plot(signals, sampling_rate=250)"
   ]
  },
  {
   "cell_type": "code",
   "execution_count": null,
   "metadata": {},
   "outputs": [],
   "source": [
    "plt.plot(signals.ECG_Raw, label =\"Raw\")\n",
    "plt.plot(signals.ECG_Clean, label =\"Clean\")\n",
    "plt.legend()"
   ]
  },
  {
   "cell_type": "markdown",
   "metadata": {},
   "source": [
    "# find peaks"
   ]
  },
  {
   "cell_type": "markdown",
   "metadata": {},
   "source": [
    "### Pantompkin's method\n",
    "``` python\n",
    "signal, info = nk.ecg_peaks(ecg, sampling_rate=sampling_rate, method=\"pantompkins1985\")\n",
    "```\n",
    "\n",
    "- Pan, J., & Tompkins, W. J. (1985). A real-time QRS detection algorithm\n",
    "- Detect only R wave\n",
    "- Low-Pass Filter (5-15 Hz) -> Differential -> Absolute -> Moving Average Filter (150 ms)\n",
    "\n",
    "<img src=\"https://hackmd.io/_uploads/HJ3uZ3fKn.png\" height=600>"
   ]
  },
  {
   "cell_type": "markdown",
   "metadata": {},
   "source": []
  },
  {
   "cell_type": "code",
   "execution_count": null,
   "metadata": {},
   "outputs": [],
   "source": []
  },
  {
   "cell_type": "code",
   "execution_count": null,
   "metadata": {},
   "outputs": [],
   "source": [
    "# Compute HRV indices\n",
    "nk.hrv(info['ECG_R_Peaks'], sampling_rate=250, show=True)"
   ]
  },
  {
   "cell_type": "code",
   "execution_count": 2,
   "metadata": {},
   "outputs": [
    {
     "ename": "TypeError",
     "evalue": "unsupported operand type(s) for +: 'builtin_function_or_method' and 'list'",
     "output_type": "error",
     "traceback": [
      "\u001b[0;31m---------------------------------------------------------------------------\u001b[0m",
      "\u001b[0;31mTypeError\u001b[0m                                 Traceback (most recent call last)",
      "\u001b[1;32m/home/jovyan/ta-hsi-datacenter3/Medical/CMU_Course_sy/04_Medical_Signal/Part_1/2_feature_extraction.ipynb Cell 11\u001b[0m in \u001b[0;36m<cell line: 8>\u001b[0;34m()\u001b[0m\n\u001b[1;32m      <a href='vscode-notebook-cell://3be1-140-109-17-41.ngrok-free.app/home/jovyan/ta-hsi-datacenter3/Medical/CMU_Course_sy/04_Medical_Signal/Part_1/2_feature_extraction.ipynb#X11sdnNjb2RlLXJlbW90ZQ%3D%3D?line=4'>5</a>\u001b[0m peaks, info \u001b[39m=\u001b[39m nk\u001b[39m.\u001b[39mecg_peaks(data[\u001b[39m\"\u001b[39m\u001b[39mECG\u001b[39m\u001b[39m\"\u001b[39m], sampling_rate\u001b[39m=\u001b[39m\u001b[39m100\u001b[39m)\n\u001b[1;32m      <a href='vscode-notebook-cell://3be1-140-109-17-41.ngrok-free.app/home/jovyan/ta-hsi-datacenter3/Medical/CMU_Course_sy/04_Medical_Signal/Part_1/2_feature_extraction.ipynb#X11sdnNjb2RlLXJlbW90ZQ%3D%3D?line=6'>7</a>\u001b[0m \u001b[39m# Compute HRV indices\u001b[39;00m\n\u001b[0;32m----> <a href='vscode-notebook-cell://3be1-140-109-17-41.ngrok-free.app/home/jovyan/ta-hsi-datacenter3/Medical/CMU_Course_sy/04_Medical_Signal/Part_1/2_feature_extraction.ipynb#X11sdnNjb2RlLXJlbW90ZQ%3D%3D?line=7'>8</a>\u001b[0m nk\u001b[39m.\u001b[39;49mhrv(peaks, sampling_rate\u001b[39m=\u001b[39;49m\u001b[39m100\u001b[39;49m, show\u001b[39m=\u001b[39;49m\u001b[39mTrue\u001b[39;49;00m)\n",
      "File \u001b[0;32m/opt/conda/lib/python3.8/site-packages/neurokit2/hrv/hrv.py:107\u001b[0m, in \u001b[0;36mhrv\u001b[0;34m(peaks, sampling_rate, show, **kwargs)\u001b[0m\n\u001b[1;32m    105\u001b[0m out\u001b[39m.\u001b[39mappend(hrv_time(peaks, sampling_rate\u001b[39m=\u001b[39msampling_rate))\n\u001b[1;32m    106\u001b[0m out\u001b[39m.\u001b[39mappend(hrv_frequency(peaks, sampling_rate\u001b[39m=\u001b[39msampling_rate))\n\u001b[0;32m--> 107\u001b[0m out\u001b[39m.\u001b[39mappend(hrv_nonlinear(peaks, sampling_rate\u001b[39m=\u001b[39;49msampling_rate))\n\u001b[1;32m    109\u001b[0m \u001b[39m# Compute RSA if rsp data is available\u001b[39;00m\n\u001b[1;32m    110\u001b[0m \u001b[39mif\u001b[39;00m \u001b[39misinstance\u001b[39m(peaks, pd\u001b[39m.\u001b[39mDataFrame):\n",
      "File \u001b[0;32m/opt/conda/lib/python3.8/site-packages/neurokit2/hrv/hrv_nonlinear.py:236\u001b[0m, in \u001b[0;36mhrv_nonlinear\u001b[0;34m(peaks, sampling_rate, show, **kwargs)\u001b[0m\n\u001b[1;32m    234\u001b[0m \u001b[39m# Complexity\u001b[39;00m\n\u001b[1;32m    235\u001b[0m tolerance \u001b[39m=\u001b[39m \u001b[39m0.2\u001b[39m \u001b[39m*\u001b[39m np\u001b[39m.\u001b[39mstd(rri, ddof\u001b[39m=\u001b[39m\u001b[39m1\u001b[39m)\n\u001b[0;32m--> 236\u001b[0m out[\u001b[39m\"\u001b[39m\u001b[39mApEn\u001b[39m\u001b[39m\"\u001b[39m], _ \u001b[39m=\u001b[39m entropy_approximate(rri, delay\u001b[39m=\u001b[39;49m\u001b[39m1\u001b[39;49m, dimension\u001b[39m=\u001b[39;49m\u001b[39m2\u001b[39;49m, tolerance\u001b[39m=\u001b[39;49mtolerance)\n\u001b[1;32m    237\u001b[0m out[\u001b[39m\"\u001b[39m\u001b[39mSampEn\u001b[39m\u001b[39m\"\u001b[39m], _ \u001b[39m=\u001b[39m entropy_sample(rri, delay\u001b[39m=\u001b[39m\u001b[39m1\u001b[39m, dimension\u001b[39m=\u001b[39m\u001b[39m2\u001b[39m, tolerance\u001b[39m=\u001b[39mtolerance)\n\u001b[1;32m    238\u001b[0m out[\u001b[39m\"\u001b[39m\u001b[39mShanEn\u001b[39m\u001b[39m\"\u001b[39m], _ \u001b[39m=\u001b[39m entropy_shannon(rri)\n",
      "File \u001b[0;32m/opt/conda/lib/python3.8/site-packages/neurokit2/complexity/entropy_approximate.py:100\u001b[0m, in \u001b[0;36mentropy_approximate\u001b[0;34m(signal, delay, dimension, tolerance, corrected, **kwargs)\u001b[0m\n\u001b[1;32m     96\u001b[0m \u001b[39m# Compute index\u001b[39;00m\n\u001b[1;32m     97\u001b[0m \u001b[39mif\u001b[39;00m corrected \u001b[39mis\u001b[39;00m \u001b[39mFalse\u001b[39;00m:\n\u001b[1;32m     98\u001b[0m     \u001b[39m# ApEn is implemented in 'optim_complexity_tolerance()' to avoid circular imports\u001b[39;00m\n\u001b[1;32m     99\u001b[0m     \u001b[39m# as one of the method for optimizing tolerance relies on ApEn\u001b[39;00m\n\u001b[0;32m--> 100\u001b[0m     out, _ \u001b[39m=\u001b[39m _entropy_apen(signal, delay, dimension, info[\u001b[39m\"\u001b[39;49m\u001b[39mTolerance\u001b[39;49m\u001b[39m\"\u001b[39;49m], \u001b[39m*\u001b[39;49m\u001b[39m*\u001b[39;49mkwargs)\n\u001b[1;32m    101\u001b[0m \u001b[39melse\u001b[39;00m:\n\u001b[1;32m    102\u001b[0m     out \u001b[39m=\u001b[39m _entropy_capen(signal, delay, dimension, info[\u001b[39m\"\u001b[39m\u001b[39mTolerance\u001b[39m\u001b[39m\"\u001b[39m], \u001b[39m*\u001b[39m\u001b[39m*\u001b[39mkwargs)\n",
      "File \u001b[0;32m/opt/conda/lib/python3.8/site-packages/neurokit2/complexity/optim_complexity_tolerance.py:363\u001b[0m, in \u001b[0;36m_entropy_apen\u001b[0;34m(signal, delay, dimension, tolerance, **kwargs)\u001b[0m\n\u001b[1;32m    361\u001b[0m \u001b[39mdef\u001b[39;00m \u001b[39m_entropy_apen\u001b[39m(signal, delay, dimension, tolerance, \u001b[39m*\u001b[39m\u001b[39m*\u001b[39mkwargs):\n\u001b[0;32m--> 363\u001b[0m     phi, info \u001b[39m=\u001b[39m _phi(\n\u001b[1;32m    364\u001b[0m         signal,\n\u001b[1;32m    365\u001b[0m         delay\u001b[39m=\u001b[39;49mdelay,\n\u001b[1;32m    366\u001b[0m         dimension\u001b[39m=\u001b[39;49mdimension,\n\u001b[1;32m    367\u001b[0m         tolerance\u001b[39m=\u001b[39;49mtolerance,\n\u001b[1;32m    368\u001b[0m         approximate\u001b[39m=\u001b[39;49m\u001b[39mTrue\u001b[39;49;00m,\n\u001b[1;32m    369\u001b[0m         \u001b[39m*\u001b[39;49m\u001b[39m*\u001b[39;49mkwargs,\n\u001b[1;32m    370\u001b[0m     )\n\u001b[1;32m    372\u001b[0m     \u001b[39mreturn\u001b[39;00m np\u001b[39m.\u001b[39mabs(np\u001b[39m.\u001b[39msubtract(phi[\u001b[39m0\u001b[39m], phi[\u001b[39m1\u001b[39m])), info\n",
      "File \u001b[0;32m/opt/conda/lib/python3.8/site-packages/neurokit2/complexity/utils.py:28\u001b[0m, in \u001b[0;36m_phi\u001b[0;34m(signal, delay, dimension, tolerance, distance, approximate, fuzzy, kdtree1, kdtree2, **kwargs)\u001b[0m\n\u001b[1;32m     25\u001b[0m \u001b[39m\"\"\"Common internal for `entropy_approximate`, `entropy_sample` and `entropy_range`.\"\"\"\u001b[39;00m\n\u001b[1;32m     27\u001b[0m \u001b[39m# Embed signal at m and m+1\u001b[39;00m\n\u001b[0;32m---> 28\u001b[0m embedded1, count1, kdtree1 \u001b[39m=\u001b[39m _get_count(\n\u001b[1;32m     29\u001b[0m     signal,\n\u001b[1;32m     30\u001b[0m     delay,\n\u001b[1;32m     31\u001b[0m     dimension,\n\u001b[1;32m     32\u001b[0m     tolerance,\n\u001b[1;32m     33\u001b[0m     distance\u001b[39m=\u001b[39;49mdistance,\n\u001b[1;32m     34\u001b[0m     approximate\u001b[39m=\u001b[39;49mapproximate,\n\u001b[1;32m     35\u001b[0m     fuzzy\u001b[39m=\u001b[39;49mfuzzy,\n\u001b[1;32m     36\u001b[0m     kdtree\u001b[39m=\u001b[39;49mkdtree1,\n\u001b[1;32m     37\u001b[0m )\n\u001b[1;32m     39\u001b[0m embedded2, count2, kdtree2 \u001b[39m=\u001b[39m _get_count(\n\u001b[1;32m     40\u001b[0m     signal,\n\u001b[1;32m     41\u001b[0m     delay,\n\u001b[0;32m   (...)\u001b[0m\n\u001b[1;32m     47\u001b[0m     kdtree\u001b[39m=\u001b[39mkdtree2,\n\u001b[1;32m     48\u001b[0m )\n\u001b[1;32m     50\u001b[0m \u001b[39m# Initialize phi\u001b[39;00m\n",
      "File \u001b[0;32m/opt/conda/lib/python3.8/site-packages/neurokit2/complexity/utils.py:112\u001b[0m, in \u001b[0;36m_get_count\u001b[0;34m(signal, delay, dimension, tolerance, distance, approximate, fuzzy, kdtree, n, **kwargs)\u001b[0m\n\u001b[1;32m    107\u001b[0m     embedded \u001b[39m=\u001b[39m embedded[:\u001b[39m-\u001b[39m\u001b[39m1\u001b[39m]  \u001b[39m# Removes the last line\u001b[39;00m\n\u001b[1;32m    109\u001b[0m \u001b[39m# Get neighbors count\u001b[39;00m\n\u001b[1;32m    110\u001b[0m \u001b[39m# -------------------\u001b[39;00m\n\u001b[1;32m    111\u001b[0m \u001b[39m# Sanity checks\u001b[39;00m\n\u001b[0;32m--> 112\u001b[0m \u001b[39mif\u001b[39;00m distance \u001b[39mnot\u001b[39;00m \u001b[39min\u001b[39;00m sklearn\u001b[39m.\u001b[39;49mneighbors\u001b[39m.\u001b[39;49mKDTree\u001b[39m.\u001b[39;49mvalid_metrics \u001b[39m+\u001b[39;49m [\u001b[39m\"\u001b[39;49m\u001b[39mrange\u001b[39;49m\u001b[39m\"\u001b[39;49m]:\n\u001b[1;32m    113\u001b[0m     \u001b[39mraise\u001b[39;00m \u001b[39mValueError\u001b[39;00m(\n\u001b[1;32m    114\u001b[0m         \u001b[39m\"\u001b[39m\u001b[39mThe given metric (\u001b[39m\u001b[39m%s\u001b[39;00m\u001b[39m) is not valid.\u001b[39m\u001b[39m\"\u001b[39m\n\u001b[1;32m    115\u001b[0m         \u001b[39m\"\u001b[39m\u001b[39mThe valid metric names are: \u001b[39m\u001b[39m%s\u001b[39;00m\u001b[39m\"\u001b[39m\n\u001b[1;32m    116\u001b[0m         \u001b[39m%\u001b[39m (distance, sklearn\u001b[39m.\u001b[39mneighbors\u001b[39m.\u001b[39mKDTree\u001b[39m.\u001b[39mvalid_metrics \u001b[39m+\u001b[39m [\u001b[39m\"\u001b[39m\u001b[39mrange\u001b[39m\u001b[39m\"\u001b[39m])\n\u001b[1;32m    117\u001b[0m     )\n\u001b[1;32m    119\u001b[0m \u001b[39mif\u001b[39;00m fuzzy \u001b[39mis\u001b[39;00m \u001b[39mTrue\u001b[39;00m:\n",
      "\u001b[0;31mTypeError\u001b[0m: unsupported operand type(s) for +: 'builtin_function_or_method' and 'list'"
     ]
    }
   ],
   "source": [
    "# Download data\n",
    "data = nk.data(\"bio_resting_8min_100hz\")\n",
    "\n",
    "# Find peaks\n",
    "peaks, info = nk.ecg_peaks(data[\"ECG\"], sampling_rate=100)\n",
    "\n",
    "# Compute HRV indices\n",
    "nk.hrv(peaks, sampling_rate=100, show=True)"
   ]
  },
  {
   "cell_type": "code",
   "execution_count": null,
   "metadata": {},
   "outputs": [],
   "source": []
  }
 ],
 "metadata": {
  "kernelspec": {
   "display_name": "Python 3 (ipykernel)",
   "language": "python",
   "name": "python3"
  },
  "language_info": {
   "codemirror_mode": {
    "name": "ipython",
    "version": 3
   },
   "file_extension": ".py",
   "mimetype": "text/x-python",
   "name": "python",
   "nbconvert_exporter": "python",
   "pygments_lexer": "ipython3",
   "version": "3.8.5"
  }
 },
 "nbformat": 4,
 "nbformat_minor": 4
}
