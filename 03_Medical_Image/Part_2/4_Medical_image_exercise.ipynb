{
 "cells": [
  {
   "cell_type": "markdown",
   "id": "dfd3009b",
   "metadata": {},
   "source": [
    "# Exercise: Image classification with medical image"
   ]
  },
  {
   "cell_type": "code",
   "execution_count": null,
   "id": "65e32263",
   "metadata": {},
   "outputs": [],
   "source": [
    "# 安裝所需套件\n",
    "!pip -q install torchio\n",
    "!pip -q install transformers==4.28.1 datasets evaluate accelerate"
   ]
  },
  {
   "cell_type": "markdown",
   "id": "dac1b85a",
   "metadata": {},
   "source": [
    "## Import packages"
   ]
  },
  {
   "cell_type": "code",
   "execution_count": null,
   "id": "5a735ba3",
   "metadata": {},
   "outputs": [],
   "source": [
    "# 匯入基本操作相關套件\n",
    "import torchio as tio\n",
    "import glob\n",
    "import numpy as np\n",
    "import matplotlib.pyplot as plt\n",
    "\n",
    "# 匯入 PyTorch 相關套件\n",
    "import torch\n",
    "import torch.nn as nn\n",
    "from torch.utils.data import Dataset\n",
    "from torch.utils.data import DataLoader\n",
    "\n",
    "# 匯入其他套件"
   ]
  },
  {
   "cell_type": "markdown",
   "id": "c9870f88",
   "metadata": {},
   "source": [
    "## Load dataset (chest x-ray)"
   ]
  },
  {
   "cell_type": "code",
   "execution_count": null,
   "id": "371070d0",
   "metadata": {},
   "outputs": [],
   "source": [
    "# load dataset\n"
   ]
  },
  {
   "cell_type": "code",
   "execution_count": null,
   "id": "623fbb28",
   "metadata": {},
   "outputs": [],
   "source": [
    "# build id2label and label2id (dictionary)\n"
   ]
  },
  {
   "cell_type": "markdown",
   "id": "6d4be262",
   "metadata": {},
   "source": [
    "## Preprocess\n"
   ]
  },
  {
   "cell_type": "code",
   "execution_count": null,
   "id": "a22e50fa",
   "metadata": {},
   "outputs": [],
   "source": [
    "# choose model checkpoint and load its preprocess function\n"
   ]
  },
  {
   "cell_type": "markdown",
   "id": "48403d9b",
   "metadata": {},
   "source": [
    "現在使用 [DefaultDataCollator](https://huggingface.co/docs/transformers/v4.28.1/en/main_classes/data_collator#transformers.DefaultDataCollator) 創建一個批次樣本。與 Hugging face 裡 Transformers 的其他資料收集器不同，DefaultDataCollator 不會套用額外的預處理，例如填充（padding）。"
   ]
  },
  {
   "cell_type": "code",
   "execution_count": null,
   "id": "fdec807e",
   "metadata": {},
   "outputs": [],
   "source": [
    "from transformers import DefaultDataCollator\n",
    "\n",
    "data_collator = DefaultDataCollator()"
   ]
  },
  {
   "cell_type": "markdown",
   "id": "3707cb42",
   "metadata": {},
   "source": [
    "## Evaluate"
   ]
  },
  {
   "cell_type": "code",
   "execution_count": null,
   "id": "f96335f8",
   "metadata": {},
   "outputs": [],
   "source": [
    "# build evaluate function\n"
   ]
  },
  {
   "cell_type": "markdown",
   "id": "e759f5a4",
   "metadata": {},
   "source": [
    "## Build model"
   ]
  },
  {
   "cell_type": "markdown",
   "id": "f733c911",
   "metadata": {},
   "source": [
    "現在已準備好開始訓練模型了！使用 [AutoModelForImageClassification](https://huggingface.co/docs/transformers/v4.28.1/en/model_doc/auto#transformers.AutoModelForImageClassification) 載入模型。指定標籤的數量以及標籤的對應方式："
   ]
  },
  {
   "cell_type": "code",
   "execution_count": null,
   "id": "0901c15e",
   "metadata": {},
   "outputs": [],
   "source": [
    "from transformers import AutoModelForImageClassification\n",
    "\n",
    "# load model"
   ]
  },
  {
   "cell_type": "markdown",
   "id": "7fa692e3",
   "metadata": {},
   "source": [
    "## Train model"
   ]
  },
  {
   "cell_type": "markdown",
   "id": "4256326f",
   "metadata": {},
   "source": [
    "接著的階段，只剩以下三個步驟：\n",
    "\n",
    "1. 在 [TrainingArguments](https://huggingface.co/docs/transformers/v4.28.1/en/main_classes/trainer#transformers.TrainingArguments) 中定義訓練的超參數。請務必留意資料集中未使用的資訊，設定 remove_unused_columns=False 可以防止被刪除未使用到的資訊！例如 image，這會導致無法獲得 pixel_values。另一個必需設定的參數是 output_dir，指定模型儲存的位置。通過設定 push_to_hub=True 將模型上傳至 Hub（需要登入 Hugging Face 才能上傳模型）。在每個 epoch 結束時，[Trainer](https://huggingface.co/docs/transformers/v4.28.1/en/main_classes/trainer#transformers.Trainer) 將評估準確性並儲存訓練模型。\n",
    "2. 將訓練參數、模型、資料集、預處理器、資料收集器以及計算評估指標函數傳遞給 [Trainer](https://huggingface.co/docs/transformers/v4.28.1/en/main_classes/trainer#transformers.Trainer)。\n",
    "3. 呼叫 [train](https://huggingface.co/docs/transformers/v4.28.1/en/main_classes/trainer#transformers.Trainer.train) 來微調模型。"
   ]
  },
  {
   "cell_type": "code",
   "execution_count": null,
   "id": "c5126248",
   "metadata": {},
   "outputs": [],
   "source": [
    "from transformers import TrainingArguments\n",
    "\n",
    "# setting training arguments"
   ]
  },
  {
   "cell_type": "code",
   "execution_count": null,
   "id": "58d62f97",
   "metadata": {},
   "outputs": [],
   "source": [
    "from transformers import Trainer\n",
    "\n",
    "# build trainer object"
   ]
  },
  {
   "cell_type": "code",
   "execution_count": null,
   "id": "cc1ba45d",
   "metadata": {},
   "outputs": [],
   "source": [
    "from transformers.integrations import MLflowCallback\n",
    "\n",
    "# start to train model"
   ]
  },
  {
   "cell_type": "markdown",
   "id": "818207be",
   "metadata": {},
   "source": [
    "# Inference"
   ]
  },
  {
   "cell_type": "markdown",
   "id": "b21968f6",
   "metadata": {},
   "source": [
    "現在，微調後的模型以存放在指定路徑，並可使用它來進行推論！\n",
    "\n",
    "載入想要進行推論的影像："
   ]
  },
  {
   "cell_type": "code",
   "execution_count": null,
   "id": "8428bd86",
   "metadata": {},
   "outputs": [],
   "source": [
    "# load test dataset\n"
   ]
  },
  {
   "cell_type": "code",
   "execution_count": null,
   "id": "371f7540",
   "metadata": {},
   "outputs": [],
   "source": [
    "# load model and preprocessor\n"
   ]
  },
  {
   "cell_type": "code",
   "execution_count": null,
   "id": "14631f7c",
   "metadata": {},
   "outputs": [],
   "source": [
    "# transform test data\n"
   ]
  },
  {
   "cell_type": "code",
   "execution_count": null,
   "id": "852c4380",
   "metadata": {},
   "outputs": [],
   "source": [
    "# model inference\n"
   ]
  },
  {
   "cell_type": "code",
   "execution_count": null,
   "id": "7c6d2079",
   "metadata": {},
   "outputs": [],
   "source": [
    "# get output label\n"
   ]
  }
 ],
 "metadata": {
  "kernelspec": {
   "display_name": "Python 3 (ipykernel)",
   "language": "python",
   "name": "python3"
  },
  "language_info": {
   "codemirror_mode": {
    "name": "ipython",
    "version": 3
   },
   "file_extension": ".py",
   "mimetype": "text/x-python",
   "name": "python",
   "nbconvert_exporter": "python",
   "pygments_lexer": "ipython3",
   "version": "3.8.5"
  }
 },
 "nbformat": 4,
 "nbformat_minor": 5
}
